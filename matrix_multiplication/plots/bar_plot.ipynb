{
 "cells": [
  {
   "cell_type": "code",
   "execution_count": 1,
   "id": "85b4eaed",
   "metadata": {},
   "outputs": [],
   "source": [
    "import numpy as np\n",
    "import pandas as pd\n",
    "import matplotlib.pyplot as plt\n",
    "import seaborn as sns\n",
    "import matplotlib"
   ]
  },
  {
   "cell_type": "code",
   "execution_count": 2,
   "id": "b8b06cdf",
   "metadata": {},
   "outputs": [],
   "source": [
    "import matplotlib.font_manager as fm\n",
    "\n",
    "# Find and select a specific font family\n",
    "font_family = 'serif'\n",
    "font_path = fm.findfont(fm.FontProperties(family=font_family))"
   ]
  },
  {
   "cell_type": "code",
   "execution_count": 3,
   "id": "78db3486",
   "metadata": {},
   "outputs": [],
   "source": [
    "sns.set_theme()"
   ]
  },
  {
   "cell_type": "code",
   "execution_count": 4,
   "id": "df69f8a7",
   "metadata": {},
   "outputs": [],
   "source": [
    "time_comm_CBLAS = pd.read_csv('../data/time_comm_CBLAS.dat', delimiter='\\t',names=[\"rank\", \"size\",\"dim\",\"time\"])\n",
    "time_comm_GPU = pd.read_csv('../data/time_comm_GPU.dat', delimiter='\\t',names=[\"rank\", \"size\",\"dim\",\"time\"])\n",
    "time_comp_CBLAS = pd.read_csv('../data/time_comp_CBLAS.dat', delimiter='\\t',names=[\"rank\", \"size\",\"dim\",\"time\"])\n",
    "time_comp_GPU = pd.read_csv('../data/time_comp_GPU.dat', delimiter='\\t',names=[\"rank\", \"size\",\"dim\",\"time\"])"
   ]
  },
  {
   "cell_type": "code",
   "execution_count": 5,
   "id": "94018cf7",
   "metadata": {},
   "outputs": [],
   "source": [
    "time_comm_CBLAS_mean={5000:{1:None,2:None,5:None,8:None,10:None}, \n",
    "                      10000:{1:None,2:None,5:None,8:None,10:None},\n",
    "                      20000:{1:None,2:None,5:None,8:None,10:None}, \n",
    "                      25000:{1:None,2:None,5:None,8:None,10:None}}\n",
    "time_comp_CBLAS_mean={5000:{1:None,2:None,5:None,8:None,10:None}, \n",
    "                      10000:{1:None,2:None,5:None,8:None,10:None},\n",
    "                      20000:{1:None,2:None,5:None,8:None,10:None}, \n",
    "                      25000:{1:None,2:None,5:None,8:None,10:None}}\n",
    "time_comm_GPU_mean={5000:{1:None,2:None,5:None,8:None,10:None}, \n",
    "                      10000:{1:None,2:None,5:None,8:None,10:None},\n",
    "                      20000:{1:None,2:None,5:None,8:None,10:None}, \n",
    "                      25000:{1:None,2:None,5:None,8:None,10:None}}\n",
    "time_comp_GPU_mean={5000:{1:None,2:None,5:None,8:None,10:None}, \n",
    "                      10000:{1:None,2:None,5:None,8:None,10:None},\n",
    "                      20000:{1:None,2:None,5:None,8:None,10:None}, \n",
    "                      25000:{1:None,2:None,5:None,8:None,10:None}}\n",
    "\n",
    "for dim in [5000, 10000, 20000, 25000]:\n",
    "    for k in [1,2,5,8,10]:\n",
    "        time_comm_CBLAS_mean[dim][k] = np.mean(\n",
    "            [time_comm_CBLAS[\"time\"][i] for i in range(len(time_comm_CBLAS)) \n",
    "             if np.logical_and(time_comm_CBLAS[\"size\"][i]==k, time_comm_CBLAS[\"dim\"][i]==dim)]) \n",
    "\n",
    "        time_comp_CBLAS_mean[dim][k]=np.mean(\n",
    "            [time_comp_CBLAS[\"time\"][i] for i in range(len(time_comp_CBLAS)) \n",
    "             if np.logical_and(time_comp_CBLAS[\"size\"][i]==k, time_comp_CBLAS[\"dim\"][i]==dim)]) \n",
    "\n",
    "        time_comm_GPU_mean[dim][k]=np.mean(\n",
    "            [time_comm_GPU[\"time\"][i] for i in range(len(time_comm_GPU)) \n",
    "             if np.logical_and(time_comm_GPU[\"size\"][i]==k, time_comm_GPU[\"dim\"][i]==dim)]) \n",
    "\n",
    "        time_comp_GPU_mean[dim][k]=np.mean(\n",
    "            [time_comp_GPU[\"time\"][i] for i in range(len(time_comp_GPU)) \n",
    "             if np.logical_and(time_comp_GPU[\"size\"][i]==k, time_comp_GPU[\"dim\"][i]==dim)]) "
   ]
  },
  {
   "cell_type": "code",
   "execution_count": 6,
   "id": "73fabc40",
   "metadata": {},
   "outputs": [],
   "source": [
    "def plot_bars(ax, data_dict, dim, label=\"Communication Time\", n_bars=1, pos=1, color=\"green\"):\n",
    "    width=0.3\n",
    "    ax.bar([1+pos*width/n_bars,2+pos*width/n_bars,5+pos*width/n_bars,10+pos*width/n_bars],\n",
    "            [data_dict[dim][i] for i in [1,2,5,10]], \n",
    "            color=color, label=label,width=width)\n",
    "    return ax"
   ]
  },
  {
   "cell_type": "code",
   "execution_count": 46,
   "id": "2fe2f2d1",
   "metadata": {},
   "outputs": [],
   "source": [
    "dim=25000"
   ]
  },
  {
   "cell_type": "code",
   "execution_count": 47,
   "id": "7d4c8d8d",
   "metadata": {},
   "outputs": [
    {
     "data": {
      "image/png": "[encoded data removed]",
      "text/plain": [
       "<Figure size 640x480 with 1 Axes>"
      ]
     },
     "metadata": {},
     "output_type": "display_data"
    }
   ],
   "source": [
    "ax1 = plt.subplot()\n",
    "plot_bars(ax1,time_comp_GPU_mean,dim, label=\"Computation time\", color=\"blue\",pos=-1,n_bars=2)\n",
    "plot_bars(ax1,time_comm_GPU_mean,dim, label=\"Communication time\", color=\"orange\",pos=1, n_bars=2)\n",
    "plt.xticks([1,2,5,10])\n",
    "ax1.legend()\n",
    "plt.yscale('log')\n",
    "plt.title(f\"CUblasDgemm {dim}x{dim}\",fontweight='bold')\n",
    "plt.xlabel(\"Number of Processes\",fontweight=500)\n",
    "ax1.set_ylabel(\"Time [s]\",fontweight=500)\n",
    "plt.savefig(f\"CUblasDgemm_{dim}.png\")"
   ]
  },
  {
   "cell_type": "code",
   "execution_count": null,
   "id": "ae1ee72a",
   "metadata": {},
   "outputs": [],
   "source": [
    "ax1 = plt.subplot()\n",
    "plot_bars(ax1,time_comp_CBLAS_mean,dim, label=\"Computation time\", color=\"blue\",pos=-1,n_bars=2)\n",
    "plot_bars(ax1,time_comm_CBLAS_mean,dim, label=\"Communication time\", color=\"orange\",pos=1, n_bars=2)\n",
    "plt.xticks([1,2,5,10])\n",
    "ax1.legend()\n",
    "plt.yscale('log')\n",
    "plt.title(f\"CblasDgemm {dim}x{dim}\",fontweight='bold')\n",
    "plt.xlabel(\"Number of Processes\",fontweight=500)\n",
    "ax1.set_ylabel(\"Time [s]\",fontweight=500)\n",
    "plt.savefig(f\"CblasDgemm_{dim}.png\")"
   ]
  },
  {
   "cell_type": "code",
   "execution_count": null,
   "id": "e2f6f838",
   "metadata": {},
   "outputs": [],
   "source": []
  }
 ],
 "metadata": {
  "kernelspec": {
   "display_name": "Python 3 (ipykernel)",
   "language": "python",
   "name": "python3"
  },
  "language_info": {
   "codemirror_mode": {
    "name": "ipython",
    "version": 3
   },
   "file_extension": ".py",
   "mimetype": "text/x-python",
   "name": "python",
   "nbconvert_exporter": "python",
   "pygments_lexer": "ipython3",
   "version": "3.10.7"
  }
 },
 "nbformat": 4,
 "nbformat_minor": 5
}
